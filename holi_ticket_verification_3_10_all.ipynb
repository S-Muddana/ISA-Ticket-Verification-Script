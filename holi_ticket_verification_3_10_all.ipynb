{
 "cells": [
  {
   "cell_type": "code",
   "execution_count": 5,
   "metadata": {},
   "outputs": [],
   "source": [
    "import pandas as pd\n",
    "import numpy as np"
   ]
  },
  {
   "cell_type": "code",
   "execution_count": 6,
   "metadata": {},
   "outputs": [],
   "source": [
    "# Load the google form and venmo csv files\n",
    "google_form = 'all_tickets.csv'\n",
    "venmo_form = 'all_venmo.csv'\n",
    "name = '3_9'\n",
    "google_df = pd.read_csv(google_form)\n",
    "venmo_df = pd.read_csv(venmo_form)\n",
    "venmo_issues = pd.read_csv(venmo_form)\n",
    "index_list = np.arange(0, len(venmo_df))\n",
    "venmo_df['index'] = index_list\n",
    "venmo_issues['index'] = index_list\n"
   ]
  },
  {
   "cell_type": "code",
   "execution_count": 7,
   "metadata": {},
   "outputs": [],
   "source": [
    "# Checks if there exists a venmo payment with the given Venmo Username\n",
    "# If there are multiple payments / people being paid for by the same Venmo Username, classify it as an issue to review\n",
    "venmo_verified_list = []\n",
    "venmo_verified_index = []\n",
    "def verify(username):\n",
    "    # Check if multiple google form submissions have the same venmo username\n",
    "    google_rows = google_df[google_df['Input Venmo name associated with the Venmo handle.'].str.lower().str.strip() == username]\n",
    "    if (len(google_rows) != 1):\n",
    "        return False\n",
    "    # Check if multiple venmo payments have the same venmo username\n",
    "    venmo_rows = venmo_df[venmo_df['Venmo Username'].str.lower() == username]\n",
    "    if (len(venmo_rows) != 1):\n",
    "        return False\n",
    "    # Check that amount paid is not greater than $10, but also not less than $9.70\n",
    "    str_amount = venmo_rows.iloc[0]['Amount']\n",
    "    num_amount = float(str_amount.replace(\"$\", \"\"))\n",
    "    if num_amount > 10 or num_amount < 9.7:\n",
    "        return False\n",
    "    venmo_verified_list.append(venmo_rows.iloc[0])\n",
    "    venmo_verified_index.append(venmo_rows.iloc[0]['index'])\n",
    "    # Otherwise, verify\n",
    "    return True"
   ]
  },
  {
   "cell_type": "code",
   "execution_count": 8,
   "metadata": {},
   "outputs": [],
   "source": [
    "cash_list = []\n",
    "issues_list = []\n",
    "verified_list = []\n",
    "\n",
    "# Key words for cash payments (can add more if students come up with brand new bright-minded ways to mess this up)\n",
    "# cash_strings = [\"cash\", \"n/a\"]\n",
    "\n",
    "# Checking every google form submission\n",
    "for index, ticket in google_df.iterrows():\n",
    "    first_name = str(ticket['First Name']).lower().strip()\n",
    "    last_name = str(ticket['Last Name']).lower().strip()\n",
    "    automated_email = str(ticket['Email Address']).lower().strip()\n",
    "    dup_rows = google_df[google_df['First Name'].str.lower().str.strip() == first_name]\n",
    "    dup_rows = dup_rows[dup_rows['Last Name'].str.lower().str.strip() == last_name]\n",
    "    dup_rows = dup_rows[dup_rows['Email Address'].str.lower().str.strip() == automated_email]\n",
    "    if len(dup_rows) > 1:\n",
    "        issues_list.append(ticket)\n",
    "        continue\n",
    "\n",
    "    venmo_name = str(ticket['Input Venmo name associated with the Venmo handle.']).lower().strip()\n",
    "    # venmo_handle = str(ticket['Input Venmo handle that completed your transaction [enter \"cash\" if paying by cash at Sproul]']).lower()\n",
    "    payment_type = str(ticket['Did you Venmo @isa-berkeley the necessary amount? [$10]'])\n",
    "\n",
    "    # Cash check (if any string in the cash_strings list is present in the Venmo Username or Handle)\n",
    "    # if any(cash in venmo_name for cash in cash_strings) or any(cash in venmo_handle for cash in cash_strings):\n",
    "    if payment_type == \"Alternate Payment\":\n",
    "        cash_list.append(ticket)\n",
    "    # Verify Check\n",
    "    elif verify(venmo_name):\n",
    "        verified_list.append(ticket)\n",
    "    # For the monkeys and dum dums who can't fill out a form right\n",
    "    else:\n",
    "        issues_list.append(ticket)\n",
    "\n",
    "for i in venmo_verified_index:\n",
    "    venmo_issues = venmo_issues[venmo_issues['index'] != i]\n",
    "\n",
    "verified_file, cash_file, issues_file, venmo_file, venmo_issues_file = 'verified_all.csv', 'cash_all.csv', 'issues_all.csv', 'verified_venmo_all.csv', 'venmo_issues_all.csv'\n",
    "verified, cash, issues, verified_venmo = pd.DataFrame(verified_list), pd.DataFrame(cash_list), pd.DataFrame(issues_list), pd.DataFrame(venmo_verified_list)\n",
    "\n",
    "verified_venmo = verified_venmo.drop(columns=['index'])\n",
    "venmo_issues = venmo_issues.drop(columns=['index'])\n",
    "\n",
    "verified.to_csv(verified_file, index = False)\n",
    "cash.to_csv(cash_file, index = False)\n",
    "issues.to_csv(issues_file, index = False)\n",
    "verified_venmo.to_csv(venmo_file, index = False)\n",
    "venmo_issues.to_csv(venmo_issues_file, index = False)\n"
   ]
  },
  {
   "cell_type": "code",
   "execution_count": 11,
   "metadata": {},
   "outputs": [
    {
     "name": "stdout",
     "output_type": "stream",
     "text": [
      "864\n",
      "864\n",
      "191\n",
      "445\n",
      "502\n"
     ]
    }
   ],
   "source": [
    "print(len(verified))\n",
    "print(len(verified_venmo))\n",
    "print(len(cash))\n",
    "print(len(issues))\n",
    "print(len(venmo_issues))"
   ]
  }
 ],
 "metadata": {
  "kernelspec": {
   "display_name": "Python 3.11.8 64-bit",
   "language": "python",
   "name": "python3"
  },
  "language_info": {
   "codemirror_mode": {
    "name": "ipython",
    "version": 3
   },
   "file_extension": ".py",
   "mimetype": "text/x-python",
   "name": "python",
   "nbconvert_exporter": "python",
   "pygments_lexer": "ipython3",
   "version": "3.11.8"
  },
  "orig_nbformat": 4,
  "vscode": {
   "interpreter": {
    "hash": "f7fe9116aaed1866520009fa542d2c1a5792bad19a7c7278387924b69411facf"
   }
  }
 },
 "nbformat": 4,
 "nbformat_minor": 2
}
